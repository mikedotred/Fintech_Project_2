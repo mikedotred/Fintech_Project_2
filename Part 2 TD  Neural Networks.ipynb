{
 "cells": [
  {
   "cell_type": "code",
   "execution_count": 23,
   "metadata": {},
   "outputs": [],
   "source": [
    "#Imports\n",
    "import pandas as pd\n",
    "from pathlib import Path\n",
    "import tensorflow as tf\n",
    "from tensorflow.keras.layers import Dense\n",
    "from tensorflow.keras.models import Sequential\n",
    "from sklearn.preprocessing import StandardScaler\n",
    "from sklearn.model_selection import train_test_split\n",
    "from sklearn.preprocessing import OneHotEncoder\n",
    "from sklearn.metrics import accuracy_score, classification_report\n",
    "from imblearn.metrics import classification_report_imbalanced\n",
    "from sklearn.metrics import confusion_matrix\n",
    "from sklearn.svm import SVC\n",
    "from sklearn.metrics import precision_score, recall_score, roc_curve, auc\n",
    "import matplotlib.pyplot as plt"
   ]
  },
  {
   "cell_type": "code",
   "execution_count": 2,
   "metadata": {},
   "outputs": [],
   "source": [
    "# The file path\n",
    "file_path = \"/Users/neilbaride/Classwork/Project 2- Vehicle Loan/train.csv\"\n",
    "\n",
    "# Read DataFrame\n",
    "df = pd.read_csv(file_path)"
   ]
  },
  {
   "cell_type": "code",
   "execution_count": 3,
   "metadata": {},
   "outputs": [
    {
     "name": "stdout",
     "output_type": "stream",
     "text": [
      "First few rows of the DataFrame:\n",
      "   UNIQUEID  DISBURSED_AMOUNT  ASSET_COST    LTV  BRANCH_ID  SUPPLIER_ID  \\\n",
      "0    420825             50578       58400  89.55         67        22807   \n",
      "1    537409             47145       65550  73.23         67        22807   \n",
      "2    417566             53278       61360  89.63         67        22807   \n",
      "3    624493             57513       66113  88.48         67        22807   \n",
      "4    539055             52378       60300  88.39         67        22807   \n",
      "\n",
      "   MANUFACTURER_ID  CURRENT_PINCODE_ID DATE_OF_BIRTH EMPLOYMENT_TYPE  ...  \\\n",
      "0               45                1441    01-01-1984        Salaried  ...   \n",
      "1               45                1502    31-07-1985   Self employed  ...   \n",
      "2               45                1497    24-08-1985   Self employed  ...   \n",
      "3               45                1501    30-12-1993   Self employed  ...   \n",
      "4               45                1495    09-12-1977   Self employed  ...   \n",
      "\n",
      "  SEC_SANCTIONED_AMOUNT  SEC_DISBURSED_AMOUNT  PRIMARY_INSTAL_AMT  \\\n",
      "0                     0                     0                   0   \n",
      "1                     0                     0                1991   \n",
      "2                     0                     0                   0   \n",
      "3                     0                     0                  31   \n",
      "4                     0                     0                   0   \n",
      "\n",
      "   SEC_INSTAL_AMT  NEW_ACCTS_IN_LAST_SIX_MONTHS  \\\n",
      "0               0                             0   \n",
      "1               0                             0   \n",
      "2               0                             0   \n",
      "3               0                             0   \n",
      "4               0                             0   \n",
      "\n",
      "   DELINQUENT_ACCTS_IN_LAST_SIX_MONTHS  AVERAGE_ACCT_AGE  \\\n",
      "0                                    0         0yrs 0mon   \n",
      "1                                    1        1yrs 11mon   \n",
      "2                                    0         0yrs 0mon   \n",
      "3                                    0         0yrs 8mon   \n",
      "4                                    0         0yrs 0mon   \n",
      "\n",
      "   CREDIT_HISTORY_LENGTH  NO_OF_INQUIRIES  LOAN_DEFAULT  \n",
      "0              0yrs 0mon                0             0  \n",
      "1             1yrs 11mon                0             1  \n",
      "2              0yrs 0mon                0             0  \n",
      "3              1yrs 3mon                1             1  \n",
      "4              0yrs 0mon                1             1  \n",
      "\n",
      "[5 rows x 41 columns]\n"
     ]
    }
   ],
   "source": [
    "# Display the first few rows of the DataFrame\n",
    "print(\"First few rows of the DataFrame:\")\n",
    "print(df.head())"
   ]
  },
  {
   "cell_type": "code",
   "execution_count": 4,
   "metadata": {},
   "outputs": [
    {
     "name": "stdout",
     "output_type": "stream",
     "text": [
      "\n",
      "Summary statistics for numerical columns:\n",
      "            UNIQUEID  DISBURSED_AMOUNT    ASSET_COST            LTV  \\\n",
      "count  233154.000000     233154.000000  2.331540e+05  233154.000000   \n",
      "mean   535917.573376      54356.993528  7.586507e+04      74.746530   \n",
      "std     68315.693711      12971.314171  1.894478e+04      11.456636   \n",
      "min    417428.000000      13320.000000  3.700000e+04      10.030000   \n",
      "25%    476786.250000      47145.000000  6.571700e+04      68.880000   \n",
      "50%    535978.500000      53803.000000  7.094600e+04      76.800000   \n",
      "75%    595039.750000      60413.000000  7.920175e+04      83.670000   \n",
      "max    671084.000000     990572.000000  1.628992e+06      95.000000   \n",
      "\n",
      "           BRANCH_ID    SUPPLIER_ID  MANUFACTURER_ID  CURRENT_PINCODE_ID  \\\n",
      "count  233154.000000  233154.000000    233154.000000       233154.000000   \n",
      "mean       72.936094   19638.635035        69.028054         3396.880247   \n",
      "std        69.834995    3491.949566        22.141304         2238.147502   \n",
      "min         1.000000   10524.000000        45.000000            1.000000   \n",
      "25%        14.000000   16535.000000        48.000000         1511.000000   \n",
      "50%        61.000000   20333.000000        86.000000         2970.000000   \n",
      "75%       130.000000   23000.000000        86.000000         5677.000000   \n",
      "max       261.000000   24803.000000       156.000000         7345.000000   \n",
      "\n",
      "            STATE_ID  EMPLOYEE_CODE_ID  ...  SEC_OVERDUE_ACCTS  \\\n",
      "count  233154.000000     233154.000000  ...      233154.000000   \n",
      "mean        7.262243       1549.477148  ...           0.007244   \n",
      "std         4.482230        975.261278  ...           0.111079   \n",
      "min         1.000000          1.000000  ...           0.000000   \n",
      "25%         4.000000        713.000000  ...           0.000000   \n",
      "50%         6.000000       1451.000000  ...           0.000000   \n",
      "75%        10.000000       2362.000000  ...           0.000000   \n",
      "max        22.000000       3795.000000  ...           8.000000   \n",
      "\n",
      "       SEC_CURRENT_BALANCE  SEC_SANCTIONED_AMOUNT  SEC_DISBURSED_AMOUNT  \\\n",
      "count         2.331540e+05           2.331540e+05          2.331540e+05   \n",
      "mean          5.427793e+03           7.295923e+03          7.179998e+03   \n",
      "std           1.702370e+05           1.831560e+05          1.825925e+05   \n",
      "min          -5.746470e+05           0.000000e+00          0.000000e+00   \n",
      "25%           0.000000e+00           0.000000e+00          0.000000e+00   \n",
      "50%           0.000000e+00           0.000000e+00          0.000000e+00   \n",
      "75%           0.000000e+00           0.000000e+00          0.000000e+00   \n",
      "max           3.603285e+07           3.000000e+07          3.000000e+07   \n",
      "\n",
      "       PRIMARY_INSTAL_AMT  SEC_INSTAL_AMT  NEW_ACCTS_IN_LAST_SIX_MONTHS  \\\n",
      "count        2.331540e+05    2.331540e+05                 233154.000000   \n",
      "mean         1.310548e+04    3.232684e+02                      0.381833   \n",
      "std          1.513679e+05    1.555369e+04                      0.955107   \n",
      "min          0.000000e+00    0.000000e+00                      0.000000   \n",
      "25%          0.000000e+00    0.000000e+00                      0.000000   \n",
      "50%          0.000000e+00    0.000000e+00                      0.000000   \n",
      "75%          1.999000e+03    0.000000e+00                      0.000000   \n",
      "max          2.564281e+07    4.170901e+06                     35.000000   \n",
      "\n",
      "       DELINQUENT_ACCTS_IN_LAST_SIX_MONTHS  NO_OF_INQUIRIES   LOAN_DEFAULT  \n",
      "count                        233154.000000    233154.000000  233154.000000  \n",
      "mean                              0.097481         0.206615       0.217071  \n",
      "std                               0.384439         0.706498       0.412252  \n",
      "min                               0.000000         0.000000       0.000000  \n",
      "25%                               0.000000         0.000000       0.000000  \n",
      "50%                               0.000000         0.000000       0.000000  \n",
      "75%                               0.000000         0.000000       0.000000  \n",
      "max                              20.000000        36.000000       1.000000  \n",
      "\n",
      "[8 rows x 35 columns]\n"
     ]
    }
   ],
   "source": [
    "# Display summary statistics for numerical columns\n",
    "print(\"\\nSummary statistics for numerical columns:\")\n",
    "print(df.describe())"
   ]
  },
  {
   "cell_type": "code",
   "execution_count": 5,
   "metadata": {},
   "outputs": [
    {
     "name": "stdout",
     "output_type": "stream",
     "text": [
      "\n",
      "Missing values:\n",
      "UNIQUEID                                  0\n",
      "DISBURSED_AMOUNT                          0\n",
      "ASSET_COST                                0\n",
      "LTV                                       0\n",
      "BRANCH_ID                                 0\n",
      "SUPPLIER_ID                               0\n",
      "MANUFACTURER_ID                           0\n",
      "CURRENT_PINCODE_ID                        0\n",
      "DATE_OF_BIRTH                             0\n",
      "EMPLOYMENT_TYPE                        7661\n",
      "DISBURSAL_DATE                            0\n",
      "STATE_ID                                  0\n",
      "EMPLOYEE_CODE_ID                          0\n",
      "MOBILENO_AVL_FLAG                         0\n",
      "AADHAR_FLAG                               0\n",
      "PAN_FLAG                                  0\n",
      "VOTERID_FLAG                              0\n",
      "DRIVING_FLAG                              0\n",
      "PASSPORT_FLAG                             0\n",
      "PERFORM_CNS_SCORE                         0\n",
      "PERFORM_CNS_SCORE_DESCRIPTION             0\n",
      "PRI_NO_OF_ACCTS                           0\n",
      "PRI_ACTIVE_ACCTS                          0\n",
      "PRI_OVERDUE_ACCTS                         0\n",
      "PRI_CURRENT_BALANCE                       0\n",
      "PRI_SANCTIONED_AMOUNT                     0\n",
      "PRI_DISBURSED_AMOUNT                      0\n",
      "SEC_NO_OF_ACCTS                           0\n",
      "SEC_ACTIVE_ACCTS                          0\n",
      "SEC_OVERDUE_ACCTS                         0\n",
      "SEC_CURRENT_BALANCE                       0\n",
      "SEC_SANCTIONED_AMOUNT                     0\n",
      "SEC_DISBURSED_AMOUNT                      0\n",
      "PRIMARY_INSTAL_AMT                        0\n",
      "SEC_INSTAL_AMT                            0\n",
      "NEW_ACCTS_IN_LAST_SIX_MONTHS              0\n",
      "DELINQUENT_ACCTS_IN_LAST_SIX_MONTHS       0\n",
      "AVERAGE_ACCT_AGE                          0\n",
      "CREDIT_HISTORY_LENGTH                     0\n",
      "NO_OF_INQUIRIES                           0\n",
      "LOAN_DEFAULT                              0\n",
      "dtype: int64\n"
     ]
    }
   ],
   "source": [
    "# Display missing values:\n",
    "print(\"\\nMissing values:\")\n",
    "print(df.isnull().sum())"
   ]
  },
  {
   "cell_type": "code",
   "execution_count": 6,
   "metadata": {},
   "outputs": [
    {
     "name": "stdout",
     "output_type": "stream",
     "text": [
      "\n",
      "Information about the DataFrame:\n",
      "<class 'pandas.core.frame.DataFrame'>\n",
      "RangeIndex: 233154 entries, 0 to 233153\n",
      "Data columns (total 41 columns):\n",
      " #   Column                               Non-Null Count   Dtype  \n",
      "---  ------                               --------------   -----  \n",
      " 0   UNIQUEID                             233154 non-null  int64  \n",
      " 1   DISBURSED_AMOUNT                     233154 non-null  int64  \n",
      " 2   ASSET_COST                           233154 non-null  int64  \n",
      " 3   LTV                                  233154 non-null  float64\n",
      " 4   BRANCH_ID                            233154 non-null  int64  \n",
      " 5   SUPPLIER_ID                          233154 non-null  int64  \n",
      " 6   MANUFACTURER_ID                      233154 non-null  int64  \n",
      " 7   CURRENT_PINCODE_ID                   233154 non-null  int64  \n",
      " 8   DATE_OF_BIRTH                        233154 non-null  object \n",
      " 9   EMPLOYMENT_TYPE                      225493 non-null  object \n",
      " 10  DISBURSAL_DATE                       233154 non-null  object \n",
      " 11  STATE_ID                             233154 non-null  int64  \n",
      " 12  EMPLOYEE_CODE_ID                     233154 non-null  int64  \n",
      " 13  MOBILENO_AVL_FLAG                    233154 non-null  int64  \n",
      " 14  AADHAR_FLAG                          233154 non-null  int64  \n",
      " 15  PAN_FLAG                             233154 non-null  int64  \n",
      " 16  VOTERID_FLAG                         233154 non-null  int64  \n",
      " 17  DRIVING_FLAG                         233154 non-null  int64  \n",
      " 18  PASSPORT_FLAG                        233154 non-null  int64  \n",
      " 19  PERFORM_CNS_SCORE                    233154 non-null  int64  \n",
      " 20  PERFORM_CNS_SCORE_DESCRIPTION        233154 non-null  object \n",
      " 21  PRI_NO_OF_ACCTS                      233154 non-null  int64  \n",
      " 22  PRI_ACTIVE_ACCTS                     233154 non-null  int64  \n",
      " 23  PRI_OVERDUE_ACCTS                    233154 non-null  int64  \n",
      " 24  PRI_CURRENT_BALANCE                  233154 non-null  int64  \n",
      " 25  PRI_SANCTIONED_AMOUNT                233154 non-null  int64  \n",
      " 26  PRI_DISBURSED_AMOUNT                 233154 non-null  int64  \n",
      " 27  SEC_NO_OF_ACCTS                      233154 non-null  int64  \n",
      " 28  SEC_ACTIVE_ACCTS                     233154 non-null  int64  \n",
      " 29  SEC_OVERDUE_ACCTS                    233154 non-null  int64  \n",
      " 30  SEC_CURRENT_BALANCE                  233154 non-null  int64  \n",
      " 31  SEC_SANCTIONED_AMOUNT                233154 non-null  int64  \n",
      " 32  SEC_DISBURSED_AMOUNT                 233154 non-null  int64  \n",
      " 33  PRIMARY_INSTAL_AMT                   233154 non-null  int64  \n",
      " 34  SEC_INSTAL_AMT                       233154 non-null  int64  \n",
      " 35  NEW_ACCTS_IN_LAST_SIX_MONTHS         233154 non-null  int64  \n",
      " 36  DELINQUENT_ACCTS_IN_LAST_SIX_MONTHS  233154 non-null  int64  \n",
      " 37  AVERAGE_ACCT_AGE                     233154 non-null  object \n",
      " 38  CREDIT_HISTORY_LENGTH                233154 non-null  object \n",
      " 39  NO_OF_INQUIRIES                      233154 non-null  int64  \n",
      " 40  LOAN_DEFAULT                         233154 non-null  int64  \n",
      "dtypes: float64(1), int64(34), object(6)\n",
      "memory usage: 72.9+ MB\n",
      "None\n"
     ]
    }
   ],
   "source": [
    "# Display information about the DataFrame\n",
    "print(\"\\nInformation about the DataFrame:\")\n",
    "print(df.info())"
   ]
  },
  {
   "cell_type": "code",
   "execution_count": 7,
   "metadata": {},
   "outputs": [
    {
     "name": "stdout",
     "output_type": "stream",
     "text": [
      "Date of Birth column:\n",
      "0         01-01-1984\n",
      "1         31-07-1985\n",
      "2         24-08-1985\n",
      "3         30-12-1993\n",
      "4         09-12-1977\n",
      "             ...    \n",
      "233149    01-08-1988\n",
      "233150    05-12-1988\n",
      "233151    01-06-1976\n",
      "233152    26-03-1994\n",
      "233153    18-02-1984\n",
      "Name: DATE_OF_BIRTH, Length: 233154, dtype: object\n"
     ]
    }
   ],
   "source": [
    "# Display the 'DATE_OF_BIRTH' column\n",
    "print(\"Date of Birth column:\")\n",
    "print(df['DATE_OF_BIRTH'])"
   ]
  },
  {
   "cell_type": "code",
   "execution_count": 8,
   "metadata": {},
   "outputs": [
    {
     "name": "stdout",
     "output_type": "stream",
     "text": [
      "\n",
      "DataFrame with Date of Birth and Age:\n",
      "       DATE_OF_BIRTH  AGE\n",
      "0         1984-01-01   40\n",
      "1         1985-07-31   38\n",
      "2         1985-08-24   38\n",
      "3         1993-12-30   30\n",
      "4         1977-12-09   46\n",
      "...              ...  ...\n",
      "233149    1988-08-01   35\n",
      "233150    1988-12-05   35\n",
      "233151    1976-06-01   47\n",
      "233152    1994-03-26   29\n",
      "233153    1984-02-18   39\n",
      "\n",
      "[233154 rows x 2 columns]\n"
     ]
    }
   ],
   "source": [
    "# Convert 'DATE_OF_BIRTH' to datetime\n",
    "df['DATE_OF_BIRTH'] = pd.to_datetime(df['DATE_OF_BIRTH'], format='%d-%m-%Y')\n",
    "\n",
    "# Calculate age by subtracting 'DATE_OF_BIRTH' from the current date\n",
    "current_date = pd.to_datetime('today')\n",
    "df['AGE'] = (current_date - df['DATE_OF_BIRTH']).dt.days // 365\n",
    "\n",
    "# Display both 'DATE_OF_BIRTH' and 'AGE' columns\n",
    "print(\"\\nDataFrame with Date of Birth and Age:\")\n",
    "print(df[['DATE_OF_BIRTH', 'AGE']])\n",
    "\n",
    "# Save the DataFrame with the new 'AGE' column\n",
    "df.to_csv(\"/Users/neilbaride/Classwork/Project 2- Vehicle Loan/train_with_age.csv\", index=False)\n"
   ]
  },
  {
   "cell_type": "code",
   "execution_count": 9,
   "metadata": {},
   "outputs": [
    {
     "name": "stdout",
     "output_type": "stream",
     "text": [
      "\n",
      "DataFrame with Amount Cost Difference:\n",
      "        DISBURSED_AMOUNT  ASSET_COST  AMOUNT_COST_DIFF\n",
      "0                  50578       58400             -7822\n",
      "1                  47145       65550            -18405\n",
      "2                  53278       61360             -8082\n",
      "3                  57513       66113             -8600\n",
      "4                  52378       60300             -7922\n",
      "...                  ...         ...               ...\n",
      "233149             63213      105405            -42192\n",
      "233150             73651      100600            -26949\n",
      "233151             33484       71212            -37728\n",
      "233152             34259       73286            -39027\n",
      "233153             75751      116009            -40258\n",
      "\n",
      "[233154 rows x 3 columns]\n"
     ]
    }
   ],
   "source": [
    "# Calculate the difference between 'DISBURSED_AMOUNT' and 'ASSET_COST'\n",
    "df['AMOUNT_COST_DIFF'] = df['DISBURSED_AMOUNT'] - df['ASSET_COST']\n",
    "\n",
    "# Display the DataFrame with the new 'AMOUNT_COST_DIFF' column\n",
    "print(\"\\nDataFrame with Amount Cost Difference:\")\n",
    "print(df[[ 'DISBURSED_AMOUNT', 'ASSET_COST', 'AMOUNT_COST_DIFF']])\n"
   ]
  },
  {
   "cell_type": "code",
   "execution_count": 10,
   "metadata": {},
   "outputs": [
    {
     "name": "stdout",
     "output_type": "stream",
     "text": [
      "Epoch 1/10\n",
      "5829/5829 [==============================] - 8s 1ms/step - loss: 0.5094 - accuracy: 0.7828 - val_loss: 0.5067 - val_accuracy: 0.7823\n",
      "Epoch 2/10\n",
      "5829/5829 [==============================] - 7s 1ms/step - loss: 0.5054 - accuracy: 0.7831 - val_loss: 0.5055 - val_accuracy: 0.7826\n",
      "Epoch 3/10\n",
      "5829/5829 [==============================] - 7s 1ms/step - loss: 0.5037 - accuracy: 0.7834 - val_loss: 0.5058 - val_accuracy: 0.7827\n",
      "Epoch 4/10\n",
      "5829/5829 [==============================] - 7s 1ms/step - loss: 0.5031 - accuracy: 0.7834 - val_loss: 0.5041 - val_accuracy: 0.7828\n",
      "Epoch 5/10\n",
      "5829/5829 [==============================] - 7s 1ms/step - loss: 0.5024 - accuracy: 0.7835 - val_loss: 0.5038 - val_accuracy: 0.7830\n",
      "Epoch 6/10\n",
      "5829/5829 [==============================] - 7s 1ms/step - loss: 0.5015 - accuracy: 0.7837 - val_loss: 0.5036 - val_accuracy: 0.7825\n",
      "Epoch 7/10\n",
      "5829/5829 [==============================] - 7s 1ms/step - loss: 0.5010 - accuracy: 0.7836 - val_loss: 0.5042 - val_accuracy: 0.7827\n",
      "Epoch 8/10\n",
      "5829/5829 [==============================] - 7s 1ms/step - loss: 0.5005 - accuracy: 0.7836 - val_loss: 0.5033 - val_accuracy: 0.7828\n",
      "Epoch 9/10\n",
      "5829/5829 [==============================] - 7s 1ms/step - loss: 0.5001 - accuracy: 0.7837 - val_loss: 0.5033 - val_accuracy: 0.7826\n",
      "Epoch 10/10\n",
      "5829/5829 [==============================] - 7s 1ms/step - loss: 0.4997 - accuracy: 0.7837 - val_loss: 0.5031 - val_accuracy: 0.7826\n"
     ]
    },
    {
     "data": {
      "text/plain": [
       "<keras.src.callbacks.History at 0x14183d790>"
      ]
     },
     "execution_count": 10,
     "metadata": {},
     "output_type": "execute_result"
    }
   ],
   "source": [
    "\n",
    "# Select features and target variable\n",
    "features = df[['DISBURSED_AMOUNT', 'ASSET_COST', 'LTV', 'BRANCH_ID', 'SUPPLIER_ID', 'MANUFACTURER_ID','CURRENT_PINCODE_ID',\n",
    "               'MOBILENO_AVL_FLAG', 'AADHAR_FLAG', 'PAN_FLAG', 'VOTERID_FLAG',\n",
    "               'DRIVING_FLAG', 'PASSPORT_FLAG', 'PERFORM_CNS_SCORE', 'PRI_NO_OF_ACCTS', 'PRI_ACTIVE_ACCTS',\n",
    "               'PRI_OVERDUE_ACCTS', 'PRI_CURRENT_BALANCE', 'PRI_SANCTIONED_AMOUNT', 'PRI_DISBURSED_AMOUNT',\n",
    "               'SEC_NO_OF_ACCTS', 'SEC_ACTIVE_ACCTS', 'SEC_OVERDUE_ACCTS', 'SEC_CURRENT_BALANCE',\n",
    "               'SEC_SANCTIONED_AMOUNT', 'SEC_DISBURSED_AMOUNT', 'PRIMARY_INSTAL_AMT', 'SEC_INSTAL_AMT',\n",
    "               'NEW_ACCTS_IN_LAST_SIX_MONTHS', 'DELINQUENT_ACCTS_IN_LAST_SIX_MONTHS', 'NO_OF_INQUIRIES']]\n",
    "\n",
    "target = df['LOAN_DEFAULT']\n",
    "\n",
    "# Split the dataset into training and testing sets\n",
    "X_train, X_test, y_train, y_test = train_test_split(features, target, test_size=0.2, random_state=42)\n",
    "\n",
    "# Standardize the features\n",
    "scaler = StandardScaler()\n",
    "X_train_scaled = scaler.fit_transform(X_train)\n",
    "X_test_scaled = scaler.transform(X_test)\n",
    "\n",
    "# Build a simple neural network model\n",
    "model = Sequential()\n",
    "model.add(Dense(64, activation='relu', input_shape=(X_train_scaled.shape[1],)))\n",
    "model.add(Dense(32, activation='relu'))\n",
    "model.add(Dense(1, activation='sigmoid'))\n",
    "\n",
    "# Compile the model\n",
    "model.compile(optimizer='adam', loss='binary_crossentropy', metrics=['accuracy'])\n",
    "\n",
    "# Train the model\n",
    "model.fit(X_train_scaled, y_train, epochs=10, batch_size=32, validation_data=(X_test_scaled, y_test))\n"
   ]
  },
  {
   "cell_type": "code",
   "execution_count": 11,
   "metadata": {},
   "outputs": [
    {
     "name": "stdout",
     "output_type": "stream",
     "text": [
      "1458/1458 [==============================] - 1s 671us/step\n",
      "LOAN_DEFAULT:\n",
      "Accuracy: 0.7825909802491905\n",
      "Precision: 0.5449438202247191\n",
      "Recall: 0.009552885562339965\n",
      "Confusion Matrix:\n",
      "[[36396    81]\n",
      " [10057    97]]\n"
     ]
    }
   ],
   "source": [
    "\n",
    "y_pred = model.predict(X_test_scaled)\n",
    "y_pred_binary = (y_pred > 0.5).astype(int)\n",
    "\n",
    "# Calculate and print metrics\n",
    "accuracy = accuracy_score(y_test, y_pred_binary)\n",
    "precision = precision_score(y_test, y_pred_binary)\n",
    "recall = recall_score(y_test, y_pred_binary)\n",
    "\n",
    "conf_matrix = confusion_matrix(y_test, y_pred_binary)\n",
    "\n",
    "print(\"LOAN_DEFAULT:\")\n",
    "print(\"Accuracy:\", accuracy)\n",
    "print(\"Precision:\", precision)\n",
    "print(\"Recall:\", recall)\n",
    "\n",
    "print(\"Confusion Matrix:\")\n",
    "print(conf_matrix)"
   ]
  },
  {
   "cell_type": "code",
   "execution_count": 12,
   "metadata": {},
   "outputs": [
    {
     "name": "stdout",
     "output_type": "stream",
     "text": [
      "Epoch 1/10\n",
      "5829/5829 [==============================] - 7s 1ms/step - loss: -2.9290 - accuracy: 0.9967 - val_loss: -7.6509 - val_accuracy: 0.9990\n",
      "Epoch 2/10\n",
      "5829/5829 [==============================] - 7s 1ms/step - loss: -26.0419 - accuracy: 0.9982 - val_loss: -40.5305 - val_accuracy: 0.9968\n",
      "Epoch 3/10\n",
      "5829/5829 [==============================] - 7s 1ms/step - loss: -90.7130 - accuracy: 0.9982 - val_loss: -114.0541 - val_accuracy: 0.9988\n",
      "Epoch 4/10\n",
      "5829/5829 [==============================] - 7s 1ms/step - loss: -206.2549 - accuracy: 0.9983 - val_loss: -240.6899 - val_accuracy: 0.9985\n",
      "Epoch 5/10\n",
      "5829/5829 [==============================] - 7s 1ms/step - loss: -417.6223 - accuracy: 0.9983 - val_loss: -434.5507 - val_accuracy: 0.9986\n",
      "Epoch 6/10\n",
      "5829/5829 [==============================] - 7s 1ms/step - loss: -690.6000 - accuracy: 0.9983 - val_loss: -708.9777 - val_accuracy: 0.9985\n",
      "Epoch 7/10\n",
      "5829/5829 [==============================] - 7s 1ms/step - loss: -1106.6813 - accuracy: 0.9984 - val_loss: -1089.0453 - val_accuracy: 0.9986\n",
      "Epoch 8/10\n",
      "5829/5829 [==============================] - 7s 1ms/step - loss: -1680.3739 - accuracy: 0.9982 - val_loss: -1559.8966 - val_accuracy: 0.9990\n",
      "Epoch 9/10\n",
      "5829/5829 [==============================] - 7s 1ms/step - loss: -2304.8508 - accuracy: 0.9984 - val_loss: -2131.1609 - val_accuracy: 0.9989\n",
      "Epoch 10/10\n",
      "5829/5829 [==============================] - 7s 1ms/step - loss: -3084.0964 - accuracy: 0.9984 - val_loss: -2855.6277 - val_accuracy: 0.9985\n"
     ]
    },
    {
     "data": {
      "text/plain": [
       "<keras.src.callbacks.History at 0x14285eb50>"
      ]
     },
     "execution_count": 12,
     "metadata": {},
     "output_type": "execute_result"
    }
   ],
   "source": [
    "\n",
    "# Select features and target variable\n",
    "features = df[['DISBURSED_AMOUNT', 'ASSET_COST', 'LTV', 'BRANCH_ID', 'SUPPLIER_ID', 'MANUFACTURER_ID','CURRENT_PINCODE_ID',\n",
    "               'MOBILENO_AVL_FLAG', 'AADHAR_FLAG', 'PAN_FLAG', 'VOTERID_FLAG',\n",
    "               'DRIVING_FLAG', 'PASSPORT_FLAG', 'PERFORM_CNS_SCORE', 'PRI_NO_OF_ACCTS', 'PRI_ACTIVE_ACCTS',\n",
    "               'PRI_OVERDUE_ACCTS', 'PRI_CURRENT_BALANCE', 'PRI_SANCTIONED_AMOUNT', 'PRI_DISBURSED_AMOUNT',\n",
    "               'SEC_NO_OF_ACCTS', 'SEC_ACTIVE_ACCTS', 'SEC_OVERDUE_ACCTS', 'SEC_CURRENT_BALANCE',\n",
    "               'SEC_SANCTIONED_AMOUNT', 'SEC_DISBURSED_AMOUNT', 'PRIMARY_INSTAL_AMT', 'SEC_INSTAL_AMT',\n",
    "               'NEW_ACCTS_IN_LAST_SIX_MONTHS', 'DELINQUENT_ACCTS_IN_LAST_SIX_MONTHS', 'NO_OF_INQUIRIES']]\n",
    "\n",
    "target = df['SEC_OVERDUE_ACCTS']\n",
    "\n",
    "# Split the dataset into training and testing sets\n",
    "X_train, X_test, y_train, y_test = train_test_split(features, target, test_size=0.2, random_state=42)\n",
    "\n",
    "# Standardize the features\n",
    "scaler = StandardScaler()\n",
    "X_train_scaled = scaler.fit_transform(X_train)\n",
    "X_test_scaled = scaler.transform(X_test)\n",
    "\n",
    "# Build a simple neural network model\n",
    "model = Sequential()\n",
    "model.add(Dense(64, activation='relu', input_shape=(X_train_scaled.shape[1],)))\n",
    "model.add(Dense(32, activation='relu'))\n",
    "model.add(Dense(1, activation='sigmoid'))\n",
    "\n",
    "# Compile the model\n",
    "model.compile(optimizer='adam', loss='binary_crossentropy', metrics=['accuracy'])\n",
    "\n",
    "# Train the model\n",
    "model.fit(X_train_scaled, y_train, epochs=10, batch_size=32, validation_data=(X_test_scaled, y_test))\n"
   ]
  },
  {
   "cell_type": "code",
   "execution_count": 13,
   "metadata": {},
   "outputs": [
    {
     "name": "stdout",
     "output_type": "stream",
     "text": [
      "1458/1458 [==============================] - 1s 687us/step\n",
      "SEC_OVERDUE_ACCTS:\n",
      "Accuracy: 0.9984988526945594\n",
      "Precision: 0.9984988526945594\n",
      "Recall: 0.9984988526945594\n",
      "Confusion Matrix:\n",
      "[[46331    29     0     0     0     0]\n",
      " [    0   230     0     0     0     0]\n",
      " [    0    26     0     0     0     0]\n",
      " [    0    10     0     0     0     0]\n",
      " [    0     2     0     0     0     0]\n",
      " [    0     3     0     0     0     0]]\n"
     ]
    }
   ],
   "source": [
    "y_pred = model.predict(X_test_scaled)\n",
    "y_pred_binary = (y_pred > 0.5).astype(int)\n",
    "\n",
    "# Calculate and print metrics\n",
    "accuracy = accuracy_score(y_test, y_pred_binary)\n",
    "precision = precision_score(y_test, y_pred_binary, average='micro')\n",
    "recall = recall_score(y_test, y_pred_binary, average='micro')\n",
    "\n",
    "conf_matrix = confusion_matrix(y_test, y_pred_binary)\n",
    "\n",
    "print(\"SEC_OVERDUE_ACCTS:\")\n",
    "print(\"Accuracy:\", accuracy)\n",
    "print(\"Precision:\", precision)\n",
    "print(\"Recall:\", recall)\n",
    "\n",
    "print(\"Confusion Matrix:\")\n",
    "print(conf_matrix)\n"
   ]
  },
  {
   "cell_type": "code",
   "execution_count": 14,
   "metadata": {},
   "outputs": [
    {
     "name": "stdout",
     "output_type": "stream",
     "text": [
      "Epoch 1/10\n",
      "5829/5829 [==============================] - 7s 1ms/step - loss: -47966076928.0000 - accuracy: 2.5734e-04 - val_loss: -60546199552.0000 - val_accuracy: 1.7156e-04\n",
      "Epoch 2/10\n",
      "5829/5829 [==============================] - 7s 1ms/step - loss: -137210093568.0000 - accuracy: 1.9301e-04 - val_loss: -163844358144.0000 - val_accuracy: 1.7156e-04\n",
      "Epoch 3/10\n",
      "5829/5829 [==============================] - 7s 1ms/step - loss: -282127138816.0000 - accuracy: 1.9301e-04 - val_loss: -333484818432.0000 - val_accuracy: 1.7156e-04\n",
      "Epoch 4/10\n",
      "5829/5829 [==============================] - 7s 1ms/step - loss: -466720096256.0000 - accuracy: 1.9301e-04 - val_loss: -543425101824.0000 - val_accuracy: 1.7156e-04\n",
      "Epoch 5/10\n",
      "5829/5829 [==============================] - 7s 1ms/step - loss: -1052268691456.0000 - accuracy: 1.9301e-04 - val_loss: -1392159358976.0000 - val_accuracy: 1.7156e-04\n",
      "Epoch 6/10\n",
      "5829/5829 [==============================] - 7s 1ms/step - loss: -1723161378816.0000 - accuracy: 1.9301e-04 - val_loss: -1876679720960.0000 - val_accuracy: 1.7156e-04\n",
      "Epoch 7/10\n",
      "5829/5829 [==============================] - 7s 1ms/step - loss: -2400465190912.0000 - accuracy: 1.9301e-04 - val_loss: -2690876964864.0000 - val_accuracy: 1.7156e-04\n",
      "Epoch 8/10\n",
      "5829/5829 [==============================] - 7s 1ms/step - loss: -3232946192384.0000 - accuracy: 1.9301e-04 - val_loss: -3857246584832.0000 - val_accuracy: 1.7156e-04\n",
      "Epoch 9/10\n",
      "5829/5829 [==============================] - 7s 1ms/step - loss: -5378032533504.0000 - accuracy: 1.9301e-04 - val_loss: -6167765975040.0000 - val_accuracy: 1.7156e-04\n",
      "Epoch 10/10\n",
      "5829/5829 [==============================] - 7s 1ms/step - loss: -7408951754752.0000 - accuracy: 1.9301e-04 - val_loss: -8310376890368.0000 - val_accuracy: 1.7156e-04\n"
     ]
    },
    {
     "data": {
      "text/plain": [
       "<keras.src.callbacks.History at 0x1439067d0>"
      ]
     },
     "execution_count": 14,
     "metadata": {},
     "output_type": "execute_result"
    }
   ],
   "source": [
    "\n",
    "# Select features and target variable\n",
    "features = df[['DISBURSED_AMOUNT', 'ASSET_COST', 'LTV', 'BRANCH_ID', 'SUPPLIER_ID', 'MANUFACTURER_ID','CURRENT_PINCODE_ID',\n",
    "               'MOBILENO_AVL_FLAG', 'AADHAR_FLAG', 'PAN_FLAG', 'VOTERID_FLAG',\n",
    "               'DRIVING_FLAG', 'PASSPORT_FLAG', 'PERFORM_CNS_SCORE', 'PRI_NO_OF_ACCTS', 'PRI_ACTIVE_ACCTS',\n",
    "               'PRI_OVERDUE_ACCTS', 'PRI_CURRENT_BALANCE', 'PRI_SANCTIONED_AMOUNT', 'PRI_DISBURSED_AMOUNT',\n",
    "               'SEC_NO_OF_ACCTS', 'SEC_ACTIVE_ACCTS', 'SEC_OVERDUE_ACCTS', 'SEC_CURRENT_BALANCE',\n",
    "               'SEC_SANCTIONED_AMOUNT', 'SEC_DISBURSED_AMOUNT', 'PRIMARY_INSTAL_AMT', 'SEC_INSTAL_AMT',\n",
    "               'NEW_ACCTS_IN_LAST_SIX_MONTHS', 'DELINQUENT_ACCTS_IN_LAST_SIX_MONTHS', 'NO_OF_INQUIRIES']]\n",
    "\n",
    "target = df['PRI_DISBURSED_AMOUNT']\n",
    "\n",
    "# Split the dataset into training and testing sets\n",
    "X_train, X_test, y_train, y_test = train_test_split(features, target, test_size=0.2, random_state=42)\n",
    "\n",
    "# Standardize the features\n",
    "scaler = StandardScaler()\n",
    "X_train_scaled = scaler.fit_transform(X_train)\n",
    "X_test_scaled = scaler.transform(X_test)\n",
    "\n",
    "# Build a simple neural network model\n",
    "model = Sequential()\n",
    "model.add(Dense(64, activation='relu', input_shape=(X_train_scaled.shape[1],)))\n",
    "model.add(Dense(32, activation='relu'))\n",
    "model.add(Dense(1, activation='sigmoid'))\n",
    "\n",
    "# Compile the model\n",
    "model.compile(optimizer='adam', loss='binary_crossentropy', metrics=['accuracy'])\n",
    "\n",
    "# Train the model\n",
    "model.fit(X_train_scaled, y_train, epochs=10, batch_size=32, validation_data=(X_test_scaled, y_test))\n"
   ]
  },
  {
   "cell_type": "code",
   "execution_count": 15,
   "metadata": {},
   "outputs": [
    {
     "name": "stdout",
     "output_type": "stream",
     "text": [
      "1458/1458 [==============================] - 1s 660us/step\n",
      "PRI_DISBURSED_AMOUNT:\n",
      "Accuracy: 0.00017155969205035276\n",
      "Precision: 0.00017155969205035276\n",
      "Recall: 0.00017155969205035276\n",
      "Confusion Matrix:\n",
      "[[    0 27575     0 ...     0     0     0]\n",
      " [    0     8     0 ...     0     0     0]\n",
      " [    0     5     0 ...     0     0     0]\n",
      " ...\n",
      " [    0     1     0 ...     0     0     0]\n",
      " [    0     1     0 ...     0     0     0]\n",
      " [    0     1     0 ...     0     0     0]]\n"
     ]
    }
   ],
   "source": [
    "y_pred = model.predict(X_test_scaled)\n",
    "y_pred_binary = (y_pred > 0.5).astype(int)\n",
    "\n",
    "# Calculate and print metrics\n",
    "accuracy = accuracy_score(y_test, y_pred_binary)\n",
    "precision = precision_score(y_test, y_pred_binary, average='micro')\n",
    "recall = recall_score(y_test, y_pred_binary, average='micro')\n",
    "\n",
    "conf_matrix = confusion_matrix(y_test, y_pred_binary)\n",
    "\n",
    "print(\"PRI_DISBURSED_AMOUNT:\")\n",
    "print(\"Accuracy:\", accuracy)\n",
    "print(\"Precision:\", precision)\n",
    "print(\"Recall:\", recall)\n",
    "\n",
    "print(\"Confusion Matrix:\")\n",
    "print(conf_matrix)\n"
   ]
  },
  {
   "cell_type": "code",
   "execution_count": 16,
   "metadata": {},
   "outputs": [
    {
     "name": "stdout",
     "output_type": "stream",
     "text": [
      "Epoch 1/10\n",
      "5829/5829 [==============================] - 8s 1ms/step - loss: -542.9982 - accuracy: 0.9771 - val_loss: -1296.0657 - val_accuracy: 0.9729\n",
      "Epoch 2/10\n",
      "5829/5829 [==============================] - 7s 1ms/step - loss: -4730.0078 - accuracy: 0.9799 - val_loss: -7356.7773 - val_accuracy: 0.9825\n",
      "Epoch 3/10\n",
      "5829/5829 [==============================] - 7s 1ms/step - loss: -14188.4658 - accuracy: 0.9812 - val_loss: -17643.2422 - val_accuracy: 0.9827\n",
      "Epoch 4/10\n",
      "5829/5829 [==============================] - 7s 1ms/step - loss: -30420.7715 - accuracy: 0.9812 - val_loss: -36029.5430 - val_accuracy: 0.9788\n",
      "Epoch 5/10\n",
      "5829/5829 [==============================] - 7s 1ms/step - loss: -60106.9727 - accuracy: 0.9809 - val_loss: -65695.2734 - val_accuracy: 0.9799\n",
      "Epoch 6/10\n",
      "5829/5829 [==============================] - 7s 1ms/step - loss: -97649.2891 - accuracy: 0.9810 - val_loss: -103363.9297 - val_accuracy: 0.9811\n",
      "Epoch 7/10\n",
      "5829/5829 [==============================] - 7s 1ms/step - loss: -158714.8125 - accuracy: 0.9805 - val_loss: -161983.4375 - val_accuracy: 0.9804\n",
      "Epoch 8/10\n",
      "5829/5829 [==============================] - 7s 1ms/step - loss: -226320.8438 - accuracy: 0.9810 - val_loss: -223762.0625 - val_accuracy: 0.9833\n",
      "Epoch 9/10\n",
      "5829/5829 [==============================] - 7s 1ms/step - loss: -314517.0000 - accuracy: 0.9811 - val_loss: -308616.6562 - val_accuracy: 0.9823\n",
      "Epoch 10/10\n",
      "5829/5829 [==============================] - 7s 1ms/step - loss: -429932.6875 - accuracy: 0.9807 - val_loss: -416530.7188 - val_accuracy: 0.9814\n"
     ]
    },
    {
     "data": {
      "text/plain": [
       "<keras.src.callbacks.History at 0x1448a8510>"
      ]
     },
     "execution_count": 16,
     "metadata": {},
     "output_type": "execute_result"
    }
   ],
   "source": [
    "\n",
    "# Select features and target variable\n",
    "features = df[['DISBURSED_AMOUNT', 'ASSET_COST', 'LTV', 'BRANCH_ID', 'SUPPLIER_ID', 'MANUFACTURER_ID','CURRENT_PINCODE_ID',\n",
    "               'MOBILENO_AVL_FLAG', 'AADHAR_FLAG', 'PAN_FLAG', 'VOTERID_FLAG',\n",
    "               'DRIVING_FLAG', 'PASSPORT_FLAG', 'PERFORM_CNS_SCORE', 'PRI_NO_OF_ACCTS', 'PRI_ACTIVE_ACCTS',\n",
    "               'PRI_OVERDUE_ACCTS', 'PRI_CURRENT_BALANCE', 'PRI_SANCTIONED_AMOUNT', 'PRI_DISBURSED_AMOUNT',\n",
    "               'SEC_NO_OF_ACCTS', 'SEC_ACTIVE_ACCTS', 'SEC_OVERDUE_ACCTS', 'SEC_CURRENT_BALANCE',\n",
    "               'SEC_SANCTIONED_AMOUNT', 'SEC_DISBURSED_AMOUNT', 'PRIMARY_INSTAL_AMT', 'SEC_INSTAL_AMT',\n",
    "               'NEW_ACCTS_IN_LAST_SIX_MONTHS', 'DELINQUENT_ACCTS_IN_LAST_SIX_MONTHS', 'NO_OF_INQUIRIES']]\n",
    "\n",
    "target = df['DELINQUENT_ACCTS_IN_LAST_SIX_MONTHS']\n",
    "\n",
    "# Split the dataset into training and testing sets\n",
    "X_train, X_test, y_train, y_test = train_test_split(features, target, test_size=0.2, random_state=42)\n",
    "\n",
    "# Standardize the features\n",
    "scaler = StandardScaler()\n",
    "X_train_scaled = scaler.fit_transform(X_train)\n",
    "X_test_scaled = scaler.transform(X_test)\n",
    "\n",
    "# Build a simple neural network model\n",
    "model = Sequential()\n",
    "model.add(Dense(64, activation='relu', input_shape=(X_train_scaled.shape[1],)))\n",
    "model.add(Dense(32, activation='relu'))\n",
    "model.add(Dense(1, activation='sigmoid'))\n",
    "\n",
    "# Compile the model\n",
    "model.compile(optimizer='adam', loss='binary_crossentropy', metrics=['accuracy'])\n",
    "\n",
    "# Train the model\n",
    "model.fit(X_train_scaled, y_train, epochs=10, batch_size=32, validation_data=(X_test_scaled, y_test))\n"
   ]
  },
  {
   "cell_type": "code",
   "execution_count": 17,
   "metadata": {},
   "outputs": [
    {
     "name": "stdout",
     "output_type": "stream",
     "text": [
      "1458/1458 [==============================] - 1s 662us/step\n",
      "DELINQUENT_ACCTS_IN_LAST_SIX_MONTHS:\n",
      "Accuracy: 0.9813643284510304\n",
      "Precision: 0.9813643284510304\n",
      "Recall: 0.9813643284510304\n",
      "Confusion Matrix:\n",
      "[[42756   234     0     0     0     0     0     0     0]\n",
      " [    0  3006     0     0     0     0     0     0     0]\n",
      " [    0   475     0     0     0     0     0     0     0]\n",
      " [    0   116     0     0     0     0     0     0     0]\n",
      " [    0    27     0     0     0     0     0     0     0]\n",
      " [    0    10     0     0     0     0     0     0     0]\n",
      " [    0     3     0     0     0     0     0     0     0]\n",
      " [    0     3     0     0     0     0     0     0     0]\n",
      " [    0     1     0     0     0     0     0     0     0]]\n"
     ]
    }
   ],
   "source": [
    "y_pred = model.predict(X_test_scaled)\n",
    "y_pred_binary = (y_pred > 0.5).astype(int)\n",
    "\n",
    "# Calculate and print metrics\n",
    "accuracy = accuracy_score(y_test, y_pred_binary)\n",
    "precision = precision_score(y_test, y_pred_binary, average='micro')\n",
    "recall = recall_score(y_test, y_pred_binary, average='micro')\n",
    "\n",
    "conf_matrix = confusion_matrix(y_test, y_pred_binary)\n",
    "\n",
    "print(\"DELINQUENT_ACCTS_IN_LAST_SIX_MONTHS:\")\n",
    "print(\"Accuracy:\", accuracy)\n",
    "print(\"Precision:\", precision)\n",
    "print(\"Recall:\", recall)\n",
    "\n",
    "print(\"Confusion Matrix:\")\n",
    "print(conf_matrix)\n"
   ]
  }
 ],
 "metadata": {
  "kernelspec": {
   "display_name": "Python 3",
   "language": "python",
   "name": "python3"
  },
  "language_info": {
   "codemirror_mode": {
    "name": "ipython",
    "version": 3
   },
   "file_extension": ".py",
   "mimetype": "text/x-python",
   "name": "python",
   "nbconvert_exporter": "python",
   "pygments_lexer": "ipython3",
   "version": "3.11.1"
  }
 },
 "nbformat": 4,
 "nbformat_minor": 4
}
